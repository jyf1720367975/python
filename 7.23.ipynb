{
 "cells": [
  {
   "cell_type": "markdown",
   "metadata": {},
   "source": [
    "# 对象和类\n",
    "- 一个学生，一张桌子，一个圆都是对象\n",
    "- 对象是类的一个实例，你可以创建多个对象，创建类的一个实例过程被称为实例化，\n",
    "- 在Python中对象就是实例，而实例就是对象"
   ]
  },
  {
   "cell_type": "markdown",
   "metadata": {},
   "source": [
    "## 定义类\n",
    "class ClassName:\n",
    "\n",
    "    do something\n",
    "    \n",
    "- class 类的表示与def 一样\n",
    "- 类名最好使用驼峰式\n",
    "- 在Python2中类是需要继承基类object的，在Python中默认继承，可写可不写\n",
    "- 可以将普通代码理解为皮肤，而函数可以理解为内衣，那么类可以理解为外套"
   ]
  },
  {
   "cell_type": "code",
   "execution_count": 1,
   "metadata": {},
   "outputs": [],
   "source": [
    "class fl:#标识符class开始 + 类名 +冒号\n",
    "    pass"
   ]
  },
  {
   "cell_type": "code",
   "execution_count": 2,
   "metadata": {},
   "outputs": [
    {
     "data": {
      "text/plain": [
       "__main__.fl"
      ]
     },
     "execution_count": 2,
     "metadata": {},
     "output_type": "execute_result"
    }
   ],
   "source": [
    "fl"
   ]
  },
  {
   "cell_type": "markdown",
   "metadata": {},
   "source": [
    "## 定义一个不含初始化__init__的简单类\n",
    "class ClassName:\n",
    "\n",
    "    joker = “Home”\n",
    "    \n",
    "    def func():\n",
    "        print('Worker')\n",
    "    \n",
    "- 尽量少使用"
   ]
  },
  {
   "cell_type": "markdown",
   "metadata": {},
   "source": [
    "\n",
    "\n",
    "## 定义一个标准类\n",
    "- __init__ 代表初始化，可以初始化任何动作\n",
    "- 此时类调用要使用()，其中（）可以理解为开始初始化\n",
    "- 初始化内的元素，类中其他的函数可以共享\n",
    "![](../Photo/85.png)"
   ]
  },
  {
   "cell_type": "code",
   "execution_count": 44,
   "metadata": {},
   "outputs": [],
   "source": [
    "# 一切类需要初始化\n",
    "# 在类中，所有函数的第一个参数都是标识量，不是参数\n",
    "#  init是初始化的意思,初始化方式不变，都是__init__（）\n",
    "#若某一个参数需要多次使用，可以将其统一放在初始化函数中\n",
    "class yfff:\n",
    "    def __init__(self,num1,num2):\n",
    "        print(\"开始初始化了\")\n",
    "        self.num1 = num1\n",
    "        self.num2 = num2\n",
    "    def Print_(self,name):#n让python知道，Print_函数归yfff管,不带self 调用不了函数\n",
    "        print(\"hello world\",name)\n",
    "    def SUM(self):\n",
    "        return self.num1 + self.num2\n",
    "    def cheng(self):\n",
    "        return self.num1 * self.num2"
   ]
  },
  {
   "cell_type": "code",
   "execution_count": 45,
   "metadata": {},
   "outputs": [
    {
     "name": "stdout",
     "output_type": "stream",
     "text": [
      "开始初始化了\n"
     ]
    }
   ],
   "source": [
    "yy=yfff(num1=1,num2=2)"
   ]
  },
  {
   "cell_type": "code",
   "execution_count": 40,
   "metadata": {},
   "outputs": [
    {
     "ename": "NameError",
     "evalue": "name 'yfff' is not defined",
     "output_type": "error",
     "traceback": [
      "\u001b[1;31m---------------------------------------------------------------------------\u001b[0m",
      "\u001b[1;31mNameError\u001b[0m                                 Traceback (most recent call last)",
      "\u001b[1;32m<ipython-input-40-90e9e49ce9f4>\u001b[0m in \u001b[0;36m<module>\u001b[1;34m\u001b[0m\n\u001b[1;32m----> 1\u001b[1;33m \u001b[0myy\u001b[0m \u001b[1;33m=\u001b[0m \u001b[0myfff\u001b[0m\u001b[1;33m(\u001b[0m\u001b[0mnum1\u001b[0m\u001b[1;33m,\u001b[0m\u001b[0mnum2\u001b[0m\u001b[1;33m)\u001b[0m\u001b[1;33m\u001b[0m\u001b[1;33m\u001b[0m\u001b[0m\n\u001b[0m",
      "\u001b[1;31mNameError\u001b[0m: name 'yfff' is not defined"
     ]
    }
   ],
   "source": [
    "yy = yfff(num1,num2)"
   ]
  },
  {
   "cell_type": "code",
   "execution_count": 39,
   "metadata": {},
   "outputs": [
    {
     "ename": "AttributeError",
     "evalue": "'y2' object has no attribute 'SUM'",
     "output_type": "error",
     "traceback": [
      "\u001b[1;31m---------------------------------------------------------------------------\u001b[0m",
      "\u001b[1;31mAttributeError\u001b[0m                            Traceback (most recent call last)",
      "\u001b[1;32m<ipython-input-39-20ec238ef733>\u001b[0m in \u001b[0;36m<module>\u001b[1;34m\u001b[0m\n\u001b[1;32m----> 1\u001b[1;33m \u001b[0myy\u001b[0m\u001b[1;33m.\u001b[0m\u001b[0mSUM\u001b[0m\u001b[1;33m(\u001b[0m\u001b[1;33m)\u001b[0m\u001b[1;33m\u001b[0m\u001b[1;33m\u001b[0m\u001b[0m\n\u001b[0m",
      "\u001b[1;31mAttributeError\u001b[0m: 'y2' object has no attribute 'SUM'"
     ]
    }
   ],
   "source": [
    "yy.SUM()"
   ]
  },
  {
   "cell_type": "code",
   "execution_count": 18,
   "metadata": {},
   "outputs": [
    {
     "name": "stdout",
     "output_type": "stream",
     "text": [
      "开始初始化了\n"
     ]
    }
   ],
   "source": [
    "yy=yfff()"
   ]
  },
  {
   "cell_type": "code",
   "execution_count": 19,
   "metadata": {},
   "outputs": [
    {
     "name": "stdout",
     "output_type": "stream",
     "text": [
      "hello world name92\n"
     ]
    }
   ],
   "source": [
    "yy.Print_(\"name92\")"
   ]
  },
  {
   "cell_type": "code",
   "execution_count": 4,
   "metadata": {},
   "outputs": [
    {
     "name": "stdout",
     "output_type": "stream",
     "text": [
      "开始初始化了\n"
     ]
    },
    {
     "data": {
      "text/plain": [
       "<__main__.yfff at 0x29d354677f0>"
      ]
     },
     "execution_count": 4,
     "metadata": {},
     "output_type": "execute_result"
    }
   ],
   "source": [
    "yfff()#此时的self不是参数，这时候是标识量"
   ]
  },
  {
   "cell_type": "markdown",
   "metadata": {},
   "source": [
    "- Circle 和 className_ 的第一个区别有 __init__ 这个函数\n",
    "- 。。。。   第二个区别，类中的每一个函数都有self的这个“参数”"
   ]
  },
  {
   "cell_type": "markdown",
   "metadata": {},
   "source": [
    "## 何为self？\n",
    "- self 是指向对象本身的参数\n",
    "- self 只是一个命名规则，其实可以改变的，但是我们约定俗成的是self，也便于理解\n",
    "- 使用了self就可以访问类中定义的成员\n",
    "<img src=\"../Photo/86.png\"></img>"
   ]
  },
  {
   "cell_type": "markdown",
   "metadata": {},
   "source": [
    "## 使用类 Cirlcle"
   ]
  },
  {
   "cell_type": "markdown",
   "metadata": {},
   "source": [
    "## 类的传参\n",
    "- class ClassName:\n",
    "    \n",
    "        def __init__(self, para1,para2...)：\n",
    "            \n",
    "            self.para1 = para1\n",
    "            \n",
    "            self.para2 = para2"
   ]
  },
  {
   "cell_type": "markdown",
   "metadata": {},
   "source": [
    "## EP:\n",
    "- A：定义一个类，类中含有两个功能：\n",
    "    - 1、产生是三个随机数计算随机数的最大值\n",
    "    - 2、产生是三个随机数计算随机数的最小值\n",
    "- B：定义一个类，（类中函数的嵌套使用）\n",
    "    - 1、第一个函数的功能为：输入一个数字\n",
    "    - 2、第二个函数的功能为：使用第一个函数中得到的数字进行平方处理\n",
    "    - 3、第三个函数的功能为：得到平方处理后的数字 - 原来输入的数字，并打印结果"
   ]
  },
  {
   "cell_type": "code",
   "execution_count": 50,
   "metadata": {},
   "outputs": [],
   "source": [
    "class j:\n",
    "    def max_(self,num1,num2,num3):\n",
    "        if num1>num2 and num1>num3:\n",
    "            return num1\n",
    "        elif num2>num1 and num2 >num3:\n",
    "            return num2\n",
    "        elif num3>num1 and num3>num2:\n",
    "            return num3\n",
    "    def min_(self):\n",
    "        if num1<num2 and num1< num3:\n",
    "            return num1\n",
    "        elif num2<num1 and num2< num3:\n",
    "            return num2\n",
    "        elif num3<num1 and num3<num2:\n",
    "            return num3"
   ]
  },
  {
   "cell_type": "code",
   "execution_count": 1,
   "metadata": {},
   "outputs": [],
   "source": [
    "import random\n",
    "a=random.randint(0,10)\n",
    "b=random.randint(0,10)\n",
    "c=random.randint(0,10)\n"
   ]
  },
  {
   "cell_type": "code",
   "execution_count": 2,
   "metadata": {},
   "outputs": [],
   "source": [
    "class y2:\n",
    "    def __init__(self,a,b,c):\n",
    "        self.a = a\n",
    "        self.b = b\n",
    "        self.c = c\n",
    "    def max_(self):\n",
    "        return max(self.a,self.b,self.c)\n",
    "    def min_(self):#参数共享，函数也可以共享\n",
    "        return min(self.a,self.b,self.c)"
   ]
  },
  {
   "cell_type": "code",
   "execution_count": 29,
   "metadata": {},
   "outputs": [],
   "source": [
    "j = y2(a,b,c)"
   ]
  },
  {
   "cell_type": "code",
   "execution_count": 30,
   "metadata": {},
   "outputs": [
    {
     "data": {
      "text/plain": [
       "7"
      ]
     },
     "execution_count": 30,
     "metadata": {},
     "output_type": "execute_result"
    }
   ],
   "source": [
    "j.max_()"
   ]
  },
  {
   "cell_type": "code",
   "execution_count": 31,
   "metadata": {},
   "outputs": [
    {
     "data": {
      "text/plain": [
       "1"
      ]
     },
     "execution_count": 31,
     "metadata": {},
     "output_type": "execute_result"
    }
   ],
   "source": [
    "j.min_()"
   ]
  },
  {
   "cell_type": "code",
   "execution_count": 33,
   "metadata": {},
   "outputs": [],
   "source": [
    "class yyy:\n",
    "    def __init__(self,a):\n",
    "        self.a = a\n",
    "        print(a)\n",
    "    def sqrt_(self,a):\n",
    "        return a*a\n",
    "    def res_(self,a):\n",
    "        return a*a - a"
   ]
  },
  {
   "cell_type": "code",
   "execution_count": 38,
   "metadata": {},
   "outputs": [
    {
     "name": "stdout",
     "output_type": "stream",
     "text": [
      "2\n"
     ]
    }
   ],
   "source": [
    "ya = yyy(a)"
   ]
  },
  {
   "cell_type": "code",
   "execution_count": 36,
   "metadata": {},
   "outputs": [
    {
     "data": {
      "text/plain": [
       "30"
      ]
     },
     "execution_count": 36,
     "metadata": {},
     "output_type": "execute_result"
    }
   ],
   "source": [
    "ya.res_(6)"
   ]
  },
  {
   "cell_type": "code",
   "execution_count": 41,
   "metadata": {},
   "outputs": [],
   "source": [
    "class yy3:\n",
    "    def __init__(self):\n",
    "        pass\n",
    "    def input_(self):\n",
    "        self.num = eval(input(\"<<\"))\n",
    "    def square(self):\n",
    "        self.num_2 = self.num **2\n",
    "    def chashi(self):\n",
    "        res = self.num_2 - self.num"
   ]
  },
  {
   "cell_type": "code",
   "execution_count": 42,
   "metadata": {},
   "outputs": [],
   "source": [
    "aa = yy3()"
   ]
  },
  {
   "cell_type": "code",
   "execution_count": 9,
   "metadata": {},
   "outputs": [],
   "source": [
    "class qq:\n",
    "    def __init__(self):\n",
    "        self.account = \"123\"\n",
    "        selfpassword = \"123\"\n",
    "    def account_(self):\n",
    "        acc = input(\"account:>>\")\n",
    "        passwords = input(\"password:>>\")\n",
    "        if acc == self.account and self.password == passwords:\n",
    "            print(\"succese\")\n",
    "        else:\n",
    "            self.yzm()\n",
    "    def yzm(self):\n",
    "        yzm  = \"padk\"\n",
    "        print(\"验证码是：\",yzm)\n",
    "        while 1:\n",
    "            N = input(\"输入：\")\n",
    "            if N == yam:\n",
    "                print(\"正确\")\n",
    "                print(\"错啦\")\n",
    "                break"
   ]
  },
  {
   "cell_type": "code",
   "execution_count": 10,
   "metadata": {},
   "outputs": [],
   "source": [
    "QQ = qq()"
   ]
  },
  {
   "cell_type": "code",
   "execution_count": 11,
   "metadata": {},
   "outputs": [
    {
     "name": "stdout",
     "output_type": "stream",
     "text": [
      "account:>>123\n",
      "password:>>ko8\n"
     ]
    },
    {
     "ename": "AttributeError",
     "evalue": "'qq' object has no attribute 'password'",
     "output_type": "error",
     "traceback": [
      "\u001b[1;31m---------------------------------------------------------------------------\u001b[0m",
      "\u001b[1;31mAttributeError\u001b[0m                            Traceback (most recent call last)",
      "\u001b[1;32m<ipython-input-11-d4bca91f4e36>\u001b[0m in \u001b[0;36m<module>\u001b[1;34m\u001b[0m\n\u001b[1;32m----> 1\u001b[1;33m \u001b[0mQQ\u001b[0m\u001b[1;33m.\u001b[0m\u001b[0maccount_\u001b[0m\u001b[1;33m(\u001b[0m\u001b[1;33m)\u001b[0m\u001b[1;33m\u001b[0m\u001b[1;33m\u001b[0m\u001b[0m\n\u001b[0m",
      "\u001b[1;32m<ipython-input-9-8bd36280187b>\u001b[0m in \u001b[0;36maccount_\u001b[1;34m(self)\u001b[0m\n\u001b[0;32m      6\u001b[0m         \u001b[0macc\u001b[0m \u001b[1;33m=\u001b[0m \u001b[0minput\u001b[0m\u001b[1;33m(\u001b[0m\u001b[1;34m\"account:>>\"\u001b[0m\u001b[1;33m)\u001b[0m\u001b[1;33m\u001b[0m\u001b[1;33m\u001b[0m\u001b[0m\n\u001b[0;32m      7\u001b[0m         \u001b[0mpasswords\u001b[0m \u001b[1;33m=\u001b[0m \u001b[0minput\u001b[0m\u001b[1;33m(\u001b[0m\u001b[1;34m\"password:>>\"\u001b[0m\u001b[1;33m)\u001b[0m\u001b[1;33m\u001b[0m\u001b[1;33m\u001b[0m\u001b[0m\n\u001b[1;32m----> 8\u001b[1;33m         \u001b[1;32mif\u001b[0m \u001b[0macc\u001b[0m \u001b[1;33m==\u001b[0m \u001b[0mself\u001b[0m\u001b[1;33m.\u001b[0m\u001b[0maccount\u001b[0m \u001b[1;32mand\u001b[0m \u001b[0mself\u001b[0m\u001b[1;33m.\u001b[0m\u001b[0mpassword\u001b[0m \u001b[1;33m==\u001b[0m \u001b[0mpasswords\u001b[0m\u001b[1;33m:\u001b[0m\u001b[1;33m\u001b[0m\u001b[1;33m\u001b[0m\u001b[0m\n\u001b[0m\u001b[0;32m      9\u001b[0m             \u001b[0mprint\u001b[0m\u001b[1;33m(\u001b[0m\u001b[1;34m\"succese\"\u001b[0m\u001b[1;33m)\u001b[0m\u001b[1;33m\u001b[0m\u001b[1;33m\u001b[0m\u001b[0m\n\u001b[0;32m     10\u001b[0m         \u001b[1;32melse\u001b[0m\u001b[1;33m:\u001b[0m\u001b[1;33m\u001b[0m\u001b[1;33m\u001b[0m\u001b[0m\n",
      "\u001b[1;31mAttributeError\u001b[0m: 'qq' object has no attribute 'password'"
     ]
    }
   ],
   "source": [
    "QQ.account_()"
   ]
  },
  {
   "cell_type": "markdown",
   "metadata": {},
   "source": [
    "## 类的继承\n",
    "- 类的单继承\n",
    "- 类的多继承\n",
    "- 继承标识\n",
    ">  class SonClass(FatherClass):\n",
    "            \n",
    "            def __init__(self):\n",
    "            \n",
    "                FatherClass.__init__(self)"
   ]
  },
  {
   "cell_type": "code",
   "execution_count": 6,
   "metadata": {},
   "outputs": [],
   "source": [
    "class A:\n",
    "    def __init__(self):\n",
    "        self.a = \"a\"\n",
    "    def a_(self):\n",
    "        print(\"aa\")\n",
    "class C:\n",
    "    \n",
    "    def __init__(self):\n",
    "        self.a = \"c\"\n",
    "    def a_(self):\n",
    "        self.a = \"cc\"\n",
    "class B(C,A):\n",
    "    def __init__(self):\n",
    "        A.__init__(self)\n",
    "        C.__init__(self)\n",
    "        \n",
    "    def b_(self):\n",
    "        print(self.a_())"
   ]
  },
  {
   "cell_type": "code",
   "execution_count": 7,
   "metadata": {},
   "outputs": [
    {
     "data": {
      "text/plain": [
       "<bound method B.b_ of <__main__.B object at 0x0000017146880128>>"
      ]
     },
     "execution_count": 7,
     "metadata": {},
     "output_type": "execute_result"
    }
   ],
   "source": [
    "bb = B()\n",
    "bb.b_"
   ]
  },
  {
   "cell_type": "code",
   "execution_count": null,
   "metadata": {},
   "outputs": [],
   "source": [
    "class ya(object):\n",
    "    pass\n",
    "class ya:\n",
    "    pass"
   ]
  },
  {
   "cell_type": "code",
   "execution_count": 5,
   "metadata": {},
   "outputs": [],
   "source": [
    "class fu(object):\n",
    "    def __init__(self):\n",
    "        self.a = \"a\"\n",
    "        self.b = \"b\"\n",
    "    def print_(self):\n",
    "        print(\"fu\")"
   ]
  },
  {
   "cell_type": "code",
   "execution_count": 6,
   "metadata": {},
   "outputs": [],
   "source": [
    "class zi(fu,mu):\n",
    "    def __init__(self):\n",
    "        #告诉父类子类即将继承父类\n",
    "        fu.__init__(self)\n",
    "        mu.__init__(self)\n",
    "    def hahah(self):\n",
    "        print(self.a)\n",
    "        self.print_()"
   ]
  },
  {
   "cell_type": "code",
   "execution_count": null,
   "metadata": {},
   "outputs": [],
   "source": [
    "class zi(fu):\n",
    "    def __init__(self):\n",
    "        #告诉父类子类即将继承父类\n",
    "        fu.__init__(self)\n",
    "        super(zi)#不要这样写\n",
    "        print(self.a)"
   ]
  },
  {
   "cell_type": "code",
   "execution_count": 7,
   "metadata": {},
   "outputs": [],
   "source": [
    "yaa = zi()"
   ]
  },
  {
   "cell_type": "code",
   "execution_count": 8,
   "metadata": {},
   "outputs": [
    {
     "ename": "NameError",
     "evalue": "name 'hahah' is not defined",
     "output_type": "error",
     "traceback": [
      "\u001b[1;31m---------------------------------------------------------------------------\u001b[0m",
      "\u001b[1;31mNameError\u001b[0m                                 Traceback (most recent call last)",
      "\u001b[1;32m<ipython-input-8-064fa1737cc6>\u001b[0m in \u001b[0;36m<module>\u001b[1;34m\u001b[0m\n\u001b[1;32m----> 1\u001b[1;33m \u001b[0myaa\u001b[0m \u001b[1;33m=\u001b[0m \u001b[0mhahah\u001b[0m\u001b[1;33m(\u001b[0m\u001b[1;33m)\u001b[0m\u001b[1;33m\u001b[0m\u001b[1;33m\u001b[0m\u001b[0m\n\u001b[0m",
      "\u001b[1;31mNameError\u001b[0m: name 'hahah' is not defined"
     ]
    }
   ],
   "source": [
    "yaa = hahah()"
   ]
  },
  {
   "cell_type": "code",
   "execution_count": null,
   "metadata": {},
   "outputs": [],
   "source": [
    "class mu():\n",
    "    def __init__(self):\n",
    "        mu.__init__(self)\n",
    "        "
   ]
  },
  {
   "cell_type": "code",
   "execution_count": null,
   "metadata": {},
   "outputs": [],
   "source": []
  },
  {
   "cell_type": "markdown",
   "metadata": {},
   "source": [
    "## 私有数据域(私有变量，或者私有函数)\n",
    "- 在Python中 变量名或者函数名使用双下划线代表私有  \\__Joker,   def \\__Joker():\n",
    "- 私有数据域不可继承\n",
    "- 私有数据域强制继承   \\__dir__()"
   ]
  },
  {
   "cell_type": "markdown",
   "metadata": {},
   "source": [
    "![](../Photo/87.png)"
   ]
  },
  {
   "cell_type": "markdown",
   "metadata": {},
   "source": [
    "# EP:\n",
    "![](../Photo/88.png)\n",
    "![](../Photo/89.png)\n",
    "![](../Photo/90.png)\n"
   ]
  },
  {
   "cell_type": "markdown",
   "metadata": {},
   "source": [
    "## 类的其他\n",
    "- 类的封装\n",
    "    - 实际上就是将一类功能放在一起，方便未来进行管理\n",
    "- 类的继承（上面已经讲过）\n",
    "- 类的多态\n",
    "    - 包括装饰器：将放在以后处理高级类中教\n",
    "    - 装饰器的好处：当许多类中的函数需要使用同一个功能的时候，那么使用装饰器就会方便许多\n",
    "    - 装饰器是有固定的写法\n",
    "        - 其包括普通装饰器与带参装饰器"
   ]
  },
  {
   "cell_type": "markdown",
   "metadata": {},
   "source": [
    "# Homewor\n",
    "## UML类图可以不用画\n",
    "## UML 实际上就是一个思维图\n",
    "- 1\n",
    "![](../Photo/91.png)"
   ]
  },
  {
   "cell_type": "code",
   "execution_count": 6,
   "metadata": {},
   "outputs": [
    {
     "ename": "IndentationError",
     "evalue": "unindent does not match any outer indentation level (<tokenize>, line 15)",
     "output_type": "error",
     "traceback": [
      "\u001b[1;36m  File \u001b[1;32m\"<tokenize>\"\u001b[1;36m, line \u001b[1;32m15\u001b[0m\n\u001b[1;33m    def __init__(self,width=1,heigthd=2):\u001b[0m\n\u001b[1;37m    ^\u001b[0m\n\u001b[1;31mIndentationError\u001b[0m\u001b[1;31m:\u001b[0m unindent does not match any outer indentation level\n"
     ]
    }
   ],
   "source": [
    "class Rectangle:\n",
    "     \"\"\"\n",
    "    check Area and zhouchang\n",
    "    Parameters:\n",
    "    --------\n",
    "        a:Need show width、heigthd、Area、zhouchang\n",
    "    Returns:\n",
    "    -------\n",
    "        None.\n",
    "    Note:\n",
    "    ----\n",
    "        1.私有域为__\n",
    "        2、类必须初始化和实例化\n",
    "    \"\"\"\n",
    "    def __init__(self,width=1,heigthd=2):\n",
    "        self.width = width\n",
    "        self.heigthd = heigthd\n",
    "    def getArea(self):\n",
    "        area = self.width * self.heigthd\n",
    "        print(self.width)\n",
    "        print(self.heigthd)\n",
    "        print(\"面积为>>:\",area)\n",
    "    def getzhouchang(self):\n",
    "        zhouchang = 2*self.width + 2*self.heigthd\n",
    "        print(self.width)\n",
    "        print(self.heigthd)\n",
    "        print(\"周长为>>:\",zhouchang)"
   ]
  },
  {
   "cell_type": "code",
   "execution_count": 3,
   "metadata": {},
   "outputs": [
    {
     "ename": "NameError",
     "evalue": "name 'Rectangle' is not defined",
     "output_type": "error",
     "traceback": [
      "\u001b[1;31m---------------------------------------------------------------------------\u001b[0m",
      "\u001b[1;31mNameError\u001b[0m                                 Traceback (most recent call last)",
      "\u001b[1;32m<ipython-input-3-5549222c1197>\u001b[0m in \u001b[0;36m<module>\u001b[1;34m\u001b[0m\n\u001b[1;32m----> 1\u001b[1;33m \u001b[0mjiang\u001b[0m \u001b[1;33m=\u001b[0m \u001b[0mRectangle\u001b[0m\u001b[1;33m(\u001b[0m\u001b[1;33m)\u001b[0m\u001b[1;33m\u001b[0m\u001b[1;33m\u001b[0m\u001b[0m\n\u001b[0m",
      "\u001b[1;31mNameError\u001b[0m: name 'Rectangle' is not defined"
     ]
    }
   ],
   "source": [
    "jiang = Rectangle()"
   ]
  },
  {
   "cell_type": "code",
   "execution_count": null,
   "metadata": {},
   "outputs": [],
   "source": [
    "jiang = Rectangle(3.5,35.7)"
   ]
  },
  {
   "cell_type": "code",
   "execution_count": 4,
   "metadata": {},
   "outputs": [
    {
     "ename": "NameError",
     "evalue": "name 'jiang' is not defined",
     "output_type": "error",
     "traceback": [
      "\u001b[1;31m---------------------------------------------------------------------------\u001b[0m",
      "\u001b[1;31mNameError\u001b[0m                                 Traceback (most recent call last)",
      "\u001b[1;32m<ipython-input-4-9fba51be09c4>\u001b[0m in \u001b[0;36m<module>\u001b[1;34m\u001b[0m\n\u001b[1;32m----> 1\u001b[1;33m \u001b[0mjiang\u001b[0m\u001b[1;33m.\u001b[0m\u001b[0mgetArea\u001b[0m\u001b[1;33m(\u001b[0m\u001b[1;33m)\u001b[0m\u001b[1;33m\u001b[0m\u001b[1;33m\u001b[0m\u001b[0m\n\u001b[0m\u001b[0;32m      2\u001b[0m \u001b[0mjiang\u001b[0m\u001b[1;33m.\u001b[0m\u001b[0mgetzhouchang\u001b[0m\u001b[1;33m(\u001b[0m\u001b[1;33m)\u001b[0m\u001b[1;33m\u001b[0m\u001b[1;33m\u001b[0m\u001b[0m\n",
      "\u001b[1;31mNameError\u001b[0m: name 'jiang' is not defined"
     ]
    }
   ],
   "source": [
    "jiang.getArea()\n",
    "jiang.getzhouchang()"
   ]
  },
  {
   "cell_type": "markdown",
   "metadata": {},
   "source": [
    "- 2\n",
    "![](../Photo/92.png)"
   ]
  },
  {
   "cell_type": "code",
   "execution_count": 7,
   "metadata": {},
   "outputs": [],
   "source": [
    "class Account:\n",
    "    \"\"\"\n",
    "    check id、jine、yulilv、yuelixi\n",
    "    Parameters:\n",
    "    --------\n",
    "        a:Need show id、jine、yulilv、yuelixi\n",
    "    Note:\n",
    "    ----\n",
    "        1.私有域为__\n",
    "        2、类必须初始化和实例化\n",
    "    \"\"\"\n",
    "    def __init__(self,id=0,chushie=100,nlilv=0):\n",
    "        self.id_=id\n",
    "        self.chushie=chushie\n",
    "        self.nlilv=nlilv\n",
    "    def getMonthlyInterestRate(self):      #月利率\n",
    "        self.rate = self.chushie*(self.nlilv/12)/100\n",
    "        print(\"月利率为>>:\",self.rate)\n",
    "    def getMonthlyInterest(self):          #月利息\n",
    "        self.lixi = self.chushie * self.rate\n",
    "        print(\"月利息为>>:\",self.lixi)  \n",
    "    def withdraw(self):              #取出指定金额\n",
    "        money=eval(input('输入取钱金额>>：'))\n",
    "        self.chushi = self.chushie - money\n",
    "        print(\"账户还有金额>>:\",self.chushi)\n",
    "    def deposit(self):               #存入指定金额\n",
    "        money1=eval(input('请输入存钱金额：'))\n",
    "        self.chushi = self.chushi + money1\n",
    "        print(\"账户还有金额>>:\",self.chushi)"
   ]
  },
  {
   "cell_type": "code",
   "execution_count": 8,
   "metadata": {},
   "outputs": [],
   "source": [
    "jiang= Account(1122,20000,4.5)"
   ]
  },
  {
   "cell_type": "code",
   "execution_count": 9,
   "metadata": {},
   "outputs": [
    {
     "name": "stdout",
     "output_type": "stream",
     "text": [
      "月利率为>>: 75.0\n",
      "月利息为>>: 1500000.0\n",
      "输入取钱金额>>：10000\n",
      "账户还有金额>>: 10000\n",
      "请输入存钱金额：20000\n",
      "账户还有金额>>: 30000\n"
     ]
    }
   ],
   "source": [
    "jiang.getMonthlyInterestRate()\n",
    "jiang.getMonthlyInterest()\n",
    "jiang.withdraw()\n",
    "jiang.deposit()"
   ]
  },
  {
   "cell_type": "markdown",
   "metadata": {},
   "source": [
    "- 3\n",
    "![](../Photo/93.png)"
   ]
  },
  {
   "cell_type": "code",
   "execution_count": 10,
   "metadata": {},
   "outputs": [],
   "source": [
    "class fan:\n",
    "    \"\"\"\n",
    "    check fan speed,radius,color and on/off status\n",
    "    Parameters:\n",
    "    --------\n",
    "        a:Need show speed、radius、color、on\n",
    "    \"\"\"\n",
    "    def __init__(self,SLOW=1,MEDIUM=2,FAST=3):\n",
    "        self.slow=SLOW\n",
    "        self.medium=MEDIUM\n",
    "        self.fast=FAST\n",
    "    def fan1(self,speed,on='False',radius=5,color='blue'):\n",
    "        self.__speed=speed\n",
    "        self.__on=on\n",
    "        self.__radius=radius\n",
    "        self.__color=color\n",
    "        if self.__on=='False':\n",
    "            print(\"关闭的\")\n",
    "        else:\n",
    "            print(\"打开状态\")\n",
    "        print(\"风速为：\",self.__speed)\n",
    "        print(\"半径为：\",self.__radius)\n",
    "        print(\"颜色为：\",self.__color)"
   ]
  },
  {
   "cell_type": "code",
   "execution_count": 11,
   "metadata": {},
   "outputs": [],
   "source": [
    "jiang=fan()"
   ]
  },
  {
   "cell_type": "code",
   "execution_count": 12,
   "metadata": {},
   "outputs": [
    {
     "name": "stdout",
     "output_type": "stream",
     "text": [
      "打开状态\n",
      "风速为： 3\n",
      "半径为： 10\n",
      "颜色为： yellow\n"
     ]
    }
   ],
   "source": [
    "jiang.fan1(3,'on',10,'yellow')"
   ]
  },
  {
   "cell_type": "code",
   "execution_count": 13,
   "metadata": {},
   "outputs": [
    {
     "name": "stdout",
     "output_type": "stream",
     "text": [
      "关闭的\n",
      "风速为： 2\n",
      "半径为： 5\n",
      "颜色为： blue\n"
     ]
    }
   ],
   "source": [
    "jiang.fan1(2)"
   ]
  },
  {
   "cell_type": "markdown",
   "metadata": {},
   "source": [
    "- 4\n",
    "![](../Photo/94.png)\n",
    "![](../Photo/95.png)"
   ]
  },
  {
   "cell_type": "code",
   "execution_count": 14,
   "metadata": {},
   "outputs": [],
   "source": [
    "import math\n",
    "#正n多边形\n",
    "class Rectangle:\n",
    "    \"\"\"\n",
    "    check the perimeter and area of a polygon\n",
    "    Parameters:\n",
    "    --------\n",
    "        a:Need show the perimeter and area\n",
    "    Note:\n",
    "    ----\n",
    "        1.用公式的时候要记得调用math的库哦(⊙o⊙)\n",
    "    \"\"\"\n",
    "    def __init__(self):\n",
    "        pass\n",
    "    def shape_(self,n=3,side=1,x=0,y=0):\n",
    "        self.__n=n\n",
    "        self.__side=side\n",
    "        self.__x=x\n",
    "        self.__y=y\n",
    "    def getzhouchang(self):\n",
    "        zhouchang = self.__n*self.__side\n",
    "        print(\"周长为>>:\",zhouchang)\n",
    "    def getArea(self):\n",
    "        area = (self.__n*self.__side**2)/4*(math.tan(math.pi/self.__n))\n",
    "        print(\"面积为>>:\",area)\n"
   ]
  },
  {
   "cell_type": "code",
   "execution_count": 15,
   "metadata": {},
   "outputs": [
    {
     "name": "stdout",
     "output_type": "stream",
     "text": [
      "周长为>>: 24\n",
      "面积为>>: 13.856406460551018\n",
      "周长为>>: 40\n",
      "面积为>>: 12.996787849316252\n"
     ]
    }
   ],
   "source": [
    "jiang=Rectangle()\n",
    "jiang.shape_(6,4)\n",
    "jiang.getzhouchang()\n",
    "jiang.getArea()\n",
    "jiang.shape_(10,4,5.6,7.8)\n",
    "jiang.getzhouchang()\n",
    "jiang.getArea()"
   ]
  },
  {
   "cell_type": "markdown",
   "metadata": {},
   "source": [
    "- 5\n",
    "![](../Photo/96.png)"
   ]
  },
  {
   "cell_type": "code",
   "execution_count": 16,
   "metadata": {},
   "outputs": [],
   "source": [
    "class LinearEquation:\n",
    "    \"\"\"\n",
    "    check the solution of the equation\n",
    "    Parameters:\n",
    "    --------\n",
    "        a:Need to be prompted for a value\n",
    "    \"\"\"\n",
    "    def __init__(self):\n",
    "        pass\n",
    "    def get(self):\n",
    "        self.__a=eval(input('输入a值：>>'))\n",
    "        self.__b=eval(input('输入b值：>>'))\n",
    "        self.__c=eval(input('输入c值：>>'))\n",
    "        self.__d=eval(input('输入d值：>>'))\n",
    "        self.__e=eval(input('输入e值：>>'))\n",
    "        self.__f=eval(input('输入f值：>>'))\n",
    "    def isSolvable(self):\n",
    "        if self.__a*self.__d != self.__b*self.__c:\n",
    "            x=(self.__e*self.__d-self.__b*self.__f)/(self.__a*self.__d-self.__b*self.__c)\n",
    "            y=(self.__a*self.__f-self.__e*self.__c)/(self.__a*self.__d-self.__b*self.__c)\n",
    "            print(\"X为：>>\",x)\n",
    "            print(\"Y为：>>\",y)\n",
    "        else:\n",
    "            print(\"这个方程式无解\")"
   ]
  },
  {
   "cell_type": "code",
   "execution_count": 17,
   "metadata": {},
   "outputs": [],
   "source": [
    "jiang = LinearEquation()"
   ]
  },
  {
   "cell_type": "code",
   "execution_count": 18,
   "metadata": {},
   "outputs": [
    {
     "name": "stdout",
     "output_type": "stream",
     "text": [
      "输入a值：>>5\n",
      "输入b值：>>2\n",
      "输入c值：>>6\n",
      "输入d值：>>1\n",
      "输入e值：>>9\n",
      "输入f值：>>1\n",
      "X为：>> -1.0\n",
      "Y为：>> 7.0\n"
     ]
    }
   ],
   "source": [
    "jiang.get()\n",
    "jiang.isSolvable()"
   ]
  },
  {
   "cell_type": "markdown",
   "metadata": {},
   "source": [
    "- 6\n",
    "![](../Photo/97.png)"
   ]
  },
  {
   "cell_type": "code",
   "execution_count": 19,
   "metadata": {},
   "outputs": [],
   "source": [
    "class LinearEquation:\n",
    "    def __init__(self):\n",
    "        pass\n",
    "    def input_():\n",
    "        self.x1,self.y1,self.x2,self.y2=eval(input('请输入端点：'))\n",
    "        self.x3,self.y3,self.x4,self.y4=eval(input('请输入端点：'))"
   ]
  },
  {
   "cell_type": "markdown",
   "metadata": {},
   "source": [
    "- 7\n",
    "![](../Photo/98.png)"
   ]
  },
  {
   "cell_type": "code",
   "execution_count": 20,
   "metadata": {},
   "outputs": [],
   "source": [
    "class LinearEquation:\n",
    "    def __init__(self):\n",
    "        pass\n",
    "    def get(self):\n",
    "        self.__a=eval(input('输入a值：>>'))\n",
    "        self.__b=eval(input('输入b值：>>'))\n",
    "        self.__c=eval(input('输入c值：>>'))\n",
    "        self.__d=eval(input('输入d值：>>'))\n",
    "        self.__e=eval(input('输入e值：>>'))\n",
    "        self.__f=eval(input('输入f值：>>'))\n",
    "    def isSolvable(self):\n",
    "        if self.__a*self.__d != self.__b*self.__c:\n",
    "            x=(self.__e*self.__d-self.__b*self.__f)/(self.__a*self.__d-self.__b*self.__c)\n",
    "            y=(self.__a*self.__f-self.__e*self.__c)/(self.__a*self.__d-self.__b*self.__c)\n",
    "            print(\"X为：>>\",x)\n",
    "            print(\"Y为：>>\",y)\n",
    "        else:\n",
    "            print(\"这个方程式无解\")"
   ]
  },
  {
   "cell_type": "code",
   "execution_count": 21,
   "metadata": {},
   "outputs": [],
   "source": [
    "jiang = LinearEquation()"
   ]
  },
  {
   "cell_type": "code",
   "execution_count": 22,
   "metadata": {},
   "outputs": [
    {
     "name": "stdout",
     "output_type": "stream",
     "text": [
      "输入a值：>>4\n",
      "输入b值：>>2\n",
      "输入c值：>>1\n",
      "输入d值：>>3\n",
      "输入e值：>>8\n",
      "输入f值：>>1\n",
      "X为：>> 2.2\n",
      "Y为：>> -0.4\n"
     ]
    }
   ],
   "source": [
    "jiang.get()\n",
    "jiang.isSolvable()"
   ]
  },
  {
   "cell_type": "code",
   "execution_count": null,
   "metadata": {},
   "outputs": [],
   "source": []
  },
  {
   "cell_type": "code",
   "execution_count": null,
   "metadata": {},
   "outputs": [],
   "source": []
  },
  {
   "cell_type": "code",
   "execution_count": null,
   "metadata": {},
   "outputs": [],
   "source": []
  },
  {
   "cell_type": "code",
   "execution_count": null,
   "metadata": {},
   "outputs": [],
   "source": []
  },
  {
   "cell_type": "code",
   "execution_count": null,
   "metadata": {},
   "outputs": [],
   "source": []
  },
  {
   "cell_type": "code",
   "execution_count": null,
   "metadata": {},
   "outputs": [],
   "source": []
  },
  {
   "cell_type": "code",
   "execution_count": null,
   "metadata": {},
   "outputs": [],
   "source": []
  }
 ],
 "metadata": {
  "kernelspec": {
   "display_name": "Python 3",
   "language": "python",
   "name": "python3"
  },
  "language_info": {
   "codemirror_mode": {
    "name": "ipython",
    "version": 3
   },
   "file_extension": ".py",
   "mimetype": "text/x-python",
   "name": "python",
   "nbconvert_exporter": "python",
   "pygments_lexer": "ipython3",
   "version": "3.7.3"
  }
 },
 "nbformat": 4,
 "nbformat_minor": 2
}
