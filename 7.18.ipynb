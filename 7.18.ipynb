{
 "cells": [
  {
   "cell_type": "markdown",
   "metadata": {},
   "source": [
    "# 选择\n",
    "## 布尔类型、数值和表达式\n",
    "![](../Photo/33.png)\n",
    "- 注意：比较运算符的相等是两个等号，一个等到代表赋值\n",
    "- 在Python中可以用整型0来代表False，其他数字来代表True\n",
    "- 后面还会讲到 is 在判断语句中的用发"
   ]
  },
  {
   "cell_type": "code",
   "execution_count": 2,
   "metadata": {},
   "outputs": [
    {
     "data": {
      "text/plain": [
       "False"
      ]
     },
     "execution_count": 2,
     "metadata": {},
     "output_type": "execute_result"
    }
   ],
   "source": [
    "1 == \"1\"  #不能与大小符号比较"
   ]
  },
  {
   "cell_type": "code",
   "execution_count": 4,
   "metadata": {},
   "outputs": [
    {
     "data": {
      "text/plain": [
       "True"
      ]
     },
     "execution_count": 4,
     "metadata": {},
     "output_type": "execute_result"
    }
   ],
   "source": [
    "1<=2<=3"
   ]
  },
  {
   "cell_type": "code",
   "execution_count": 5,
   "metadata": {},
   "outputs": [
    {
     "data": {
      "text/plain": [
       "True"
      ]
     },
     "execution_count": 5,
     "metadata": {},
     "output_type": "execute_result"
    }
   ],
   "source": [
    "bool (\"joker\")#true or fause \n",
    "            #什么类型都可以"
   ]
  },
  {
   "cell_type": "code",
   "execution_count": 5,
   "metadata": {},
   "outputs": [],
   "source": [
    "while 0:\n",
    "    print(\"joker\")"
   ]
  },
  {
   "cell_type": "code",
   "execution_count": 8,
   "metadata": {},
   "outputs": [
    {
     "name": "stdout",
     "output_type": "stream",
     "text": [
      "140732048446272 140732048446272\n"
     ]
    }
   ],
   "source": [
    "a = id(1)\n",
    "b = id(1)\n",
    "#因为a和b不是同一个对象\n",
    "print(a,b)\n",
    "a is b"
   ]
  },
  {
   "cell_type": "code",
   "execution_count": 14,
   "metadata": {},
   "outputs": [
    {
     "data": {
      "text/plain": [
       "True"
      ]
     },
     "execution_count": 14,
     "metadata": {},
     "output_type": "execute_result"
    }
   ],
   "source": [
    "a = id(1)\n",
    "b = a\n",
    "a is b"
   ]
  },
  {
   "cell_type": "code",
   "execution_count": 9,
   "metadata": {},
   "outputs": [
    {
     "data": {
      "text/plain": [
       "False"
      ]
     },
     "execution_count": 9,
     "metadata": {},
     "output_type": "execute_result"
    }
   ],
   "source": [
    "a is b #比较的是内存地址"
   ]
  },
  {
   "cell_type": "code",
   "execution_count": 11,
   "metadata": {},
   "outputs": [],
   "source": [
    "a = True\n",
    "b = False\n"
   ]
  },
  {
   "cell_type": "code",
   "execution_count": 12,
   "metadata": {},
   "outputs": [
    {
     "data": {
      "text/plain": [
       "False"
      ]
     },
     "execution_count": 12,
     "metadata": {},
     "output_type": "execute_result"
    }
   ],
   "source": [
    "a == b"
   ]
  },
  {
   "cell_type": "code",
   "execution_count": 13,
   "metadata": {},
   "outputs": [
    {
     "data": {
      "text/plain": [
       "140732047923536"
      ]
     },
     "execution_count": 13,
     "metadata": {},
     "output_type": "execute_result"
    }
   ],
   "source": [
    "id(True)"
   ]
  },
  {
   "cell_type": "markdown",
   "metadata": {},
   "source": [
    "## 字符串的比较使用ASCII值"
   ]
  },
  {
   "cell_type": "code",
   "execution_count": 20,
   "metadata": {},
   "outputs": [
    {
     "data": {
      "text/plain": [
       "True"
      ]
     },
     "execution_count": 20,
     "metadata": {},
     "output_type": "execute_result"
    }
   ],
   "source": [
    "a = \"joker\"  #e在a后面\n",
    "b = \"jokar\"\n",
    "a > b"
   ]
  },
  {
   "cell_type": "markdown",
   "metadata": {},
   "source": [
    "## Markdown \n",
    "- https://github.com/younghz/Markdown"
   ]
  },
  {
   "cell_type": "markdown",
   "metadata": {},
   "source": [
    "粉色的肤色冯绍峰"
   ]
  },
  {
   "cell_type": "markdown",
   "metadata": {},
   "source": [
    "y = a * k"
   ]
  },
  {
   "cell_type": "code",
   "execution_count": 23,
   "metadata": {},
   "outputs": [],
   "source": [
    "i = int(True)\n",
    "j = int(False)"
   ]
  },
  {
   "cell_type": "markdown",
   "metadata": {},
   "source": [
    "## EP:\n",
    "- <img src=\"../Photo/34.png\"></img>\n",
    "- 输入一个数字，判断其实奇数还是偶数"
   ]
  },
  {
   "cell_type": "markdown",
   "metadata": {},
   "source": [
    "## 产生随机数字\n",
    "- 函数random.randint(a,b) 可以用来产生一个a和b之间且包括a和b的随机整数"
   ]
  },
  {
   "cell_type": "markdown",
   "metadata": {},
   "source": [
    "产生一个随机数，你去输入，如果你输入的数大于随机数，那么就告诉你太大了，反之，太小了，\n",
    "然后你一直输入，知道它满意为止"
   ]
  },
  {
   "cell_type": "code",
   "execution_count": null,
   "metadata": {},
   "outputs": [],
   "source": [
    "if tiaojian：\n",
    "    一串要做些什么\n",
    "else：\n",
    "    qitaqingkuang"
   ]
  },
  {
   "cell_type": "code",
   "execution_count": null,
   "metadata": {},
   "outputs": [],
   "source": [
    "for iter_in xxx:\n",
    "    zuoxieshazi\n"
   ]
  },
  {
   "cell_type": "code",
   "execution_count": null,
   "metadata": {},
   "outputs": [],
   "source": [
    "eval(input(\" \"))#input发挥的是字符串，家了eval返回表达式"
   ]
  },
  {
   "cell_type": "code",
   "execution_count": 47,
   "metadata": {},
   "outputs": [],
   "source": [
    "num = random.randint(0,5)"
   ]
  },
  {
   "cell_type": "code",
   "execution_count": 54,
   "metadata": {},
   "outputs": [
    {
     "name": "stdout",
     "output_type": "stream",
     "text": [
      "输入一个随机数2\n",
      "刚刚好啊\n"
     ]
    }
   ],
   "source": [
    "input_ = eval(input(\"输入一个随机数\"))\n",
    "if num < input_:\n",
    "    print(\"太大啦吧\")\n",
    "if num > input_:\n",
    "    print(\"太小拉吧\")\n",
    "if num == input_:\n",
    "    print(\"刚刚好啊\")\n",
    "    "
   ]
  },
  {
   "cell_type": "code",
   "execution_count": 57,
   "metadata": {},
   "outputs": [
    {
     "name": "stdout",
     "output_type": "stream",
     "text": [
      "输入一个随机数4\n",
      "太大啦吧\n",
      "输入一个随机数2\n",
      "刚刚好啊\n"
     ]
    }
   ],
   "source": [
    "for i in range(5):\n",
    "    input_ = eval(input(\"输入一个随机数\"))\n",
    "    if num < input_:\n",
    "        print(\"太大啦吧\")\n",
    "    if num > input_:\n",
    "        print(\"太小拉吧\")\n",
    "    if num == input_:\n",
    "        print(\"刚刚好啊\")\n",
    "        break"
   ]
  },
  {
   "cell_type": "markdown",
   "metadata": {},
   "source": [
    "##  其他random方法\n",
    "- random.random 返回0.0到1.0之间前闭后开区间的随机浮点\n",
    "- random.randrange(a,b) 前闭后开"
   ]
  },
  {
   "cell_type": "code",
   "execution_count": 58,
   "metadata": {},
   "outputs": [
    {
     "data": {
      "text/plain": [
       "0.1785900946528728"
      ]
     },
     "execution_count": 58,
     "metadata": {},
     "output_type": "execute_result"
    }
   ],
   "source": [
    "random.random()"
   ]
  },
  {
   "cell_type": "code",
   "execution_count": null,
   "metadata": {},
   "outputs": [],
   "source": [
    "import matplot.pyplot as plt # 图片，包括下面\n"
   ]
  },
  {
   "cell_type": "code",
   "execution_count": null,
   "metadata": {},
   "outputs": [],
   "source": [
    "image = imread()\n",
    "print(imread)\n",
    "plt.imshow(image)"
   ]
  },
  {
   "cell_type": "markdown",
   "metadata": {},
   "source": [
    "## EP：\n",
    "- 产生两个随机整数number1和number2，然后显示给用户，使用户输入数字的和，并判定其是否正确\n",
    "- 进阶:写一个随机序号点名程序"
   ]
  },
  {
   "cell_type": "code",
   "execution_count": 4,
   "metadata": {},
   "outputs": [],
   "source": [
    "import random"
   ]
  },
  {
   "cell_type": "code",
   "execution_count": null,
   "metadata": {},
   "outputs": [
    {
     "name": "stdout",
     "output_type": "stream",
     "text": [
      "输入数字和：8\n",
      "正确\n",
      "输入数字和：4\n",
      "错啦\n",
      "输入数字和：7\n",
      "错啦\n"
     ]
    }
   ],
   "source": [
    "num_1 = random.randint(0,10)\n",
    "num_2 = random.randint(0,10)\n",
    "while 1:\n",
    "    sum_ = eval(input(\"输入数字和：\"))\n",
    "    if sum_ == num_1 + num_2:\n",
    "        print(\"正确\")\n",
    "    else:\n",
    "        print(\"错啦\")"
   ]
  },
  {
   "cell_type": "code",
   "execution_count": 13,
   "metadata": {},
   "outputs": [
    {
     "name": "stdout",
     "output_type": "stream",
     "text": [
      "输入数字和：4\n",
      "错啦\n"
     ]
    }
   ],
   "source": [
    "num_1 = random.randint(0,10)\n",
    "num_2 = random.randint(0,10)\n",
    "sum_ = eval(input(\"输入数字和：\"))\n",
    "if sum_ == num_1 + num_2:\n",
    "    print(\"正确\")\n",
    "else:\n",
    "    print(\"错啦\")"
   ]
  },
  {
   "cell_type": "code",
   "execution_count": null,
   "metadata": {},
   "outputs": [],
   "source": []
  },
  {
   "cell_type": "markdown",
   "metadata": {},
   "source": [
    "## if语句\n",
    "- 如果条件正确就执行一个单向if语句，亦即当条件为真的时候才执行if内部的语句\n",
    "- Python有很多选择语句:\n",
    "> - 单向if \n",
    "  - 双向if-else\n",
    "  - 嵌套if\n",
    "  - 多向if-elif-else\n",
    "  \n",
    "- 注意：当语句含有子语句的时候，那么一定至少要有一个缩进，也就是说如果有儿子存在，那么一定要缩进\n",
    "- 切记不可tab键和space混用，单用tab 或者 space\n",
    "- 当你输出的结果是无论if是否为真时都需要显示时，语句应该与if对齐"
   ]
  },
  {
   "cell_type": "code",
   "execution_count": 2,
   "metadata": {},
   "outputs": [
    {
     "name": "stdout",
     "output_type": "stream",
     "text": [
      "输入一个随机数8\n",
      "刚刚好啊\n",
      "今天也要加油鸭\n"
     ]
    }
   ],
   "source": [
    "num = input_ = eval(input(\"输入一个随机数\"))\n",
    "if num < input_:\n",
    "    print(\"太大啦吧\")\n",
    "if num > input_:\n",
    "    print(\"太小拉吧\")\n",
    "if num == input_:\n",
    "    print(\"刚刚好啊\")\n",
    "print(\"今天也要加油鸭\")"
   ]
  },
  {
   "cell_type": "code",
   "execution_count": null,
   "metadata": {},
   "outputs": [],
   "source": [
    "if age < 30:\n",
    "    print(\"!=帅\")\n",
    "if age > 30:\n",
    "    print(\"再见！\")\n",
    "if wai != noshaui:\n",
    "    print(\"再看看吧\")\n",
    "else:\n",
    "    print(\"是否有女朋友哇\")\n",
    "if yes:\n",
    "    print(\"诱惑哇\")\n",
    "if no:\n",
    "    print(\"\")"
   ]
  },
  {
   "cell_type": "code",
   "execution_count": 1,
   "metadata": {},
   "outputs": [
    {
     "name": "stdout",
     "output_type": "stream",
     "text": [
      "年轻嘛 [y/n]y\n",
      "帅吗[y/n]y\n"
     ]
    },
    {
     "ename": "NameError",
     "evalue": "name 'handsome' is not defined",
     "output_type": "error",
     "traceback": [
      "\u001b[1;31m---------------------------------------------------------------------------\u001b[0m",
      "\u001b[1;31mNameError\u001b[0m                                 Traceback (most recent call last)",
      "\u001b[1;32m<ipython-input-1-1562c8530c92>\u001b[0m in \u001b[0;36m<module>\u001b[1;34m\u001b[0m\n\u001b[0;32m      2\u001b[0m \u001b[1;32mif\u001b[0m \u001b[0mage\u001b[0m \u001b[1;33m==\u001b[0m\u001b[1;34m\"y\"\u001b[0m\u001b[1;33m:\u001b[0m\u001b[1;33m\u001b[0m\u001b[1;33m\u001b[0m\u001b[0m\n\u001b[0;32m      3\u001b[0m     \u001b[0mhandsom\u001b[0m \u001b[1;33m=\u001b[0m \u001b[0minput\u001b[0m\u001b[1;33m(\u001b[0m\u001b[1;34m\"帅吗[y/n]\"\u001b[0m\u001b[1;33m)\u001b[0m\u001b[1;33m\u001b[0m\u001b[1;33m\u001b[0m\u001b[0m\n\u001b[1;32m----> 4\u001b[1;33m     \u001b[1;32mif\u001b[0m \u001b[0mhandsome\u001b[0m \u001b[1;33m==\u001b[0m\u001b[1;34m\"y\"\u001b[0m\u001b[1;33m:\u001b[0m\u001b[1;33m\u001b[0m\u001b[1;33m\u001b[0m\u001b[0m\n\u001b[0m\u001b[0;32m      5\u001b[0m         \u001b[0mwife\u001b[0m \u001b[1;33m=\u001b[0m \u001b[0minput\u001b[0m\u001b[1;33m(\u001b[0m\u001b[1;34m\"有没有女朋友哇[y/n]\"\u001b[0m\u001b[1;33m)\u001b[0m\u001b[1;33m\u001b[0m\u001b[1;33m\u001b[0m\u001b[0m\n\u001b[0;32m      6\u001b[0m         \u001b[1;32mif\u001b[0m \u001b[0mwife\u001b[0m \u001b[1;33m==\u001b[0m \u001b[1;34m\"y\"\u001b[0m\u001b[1;33m:\u001b[0m\u001b[1;33m\u001b[0m\u001b[1;33m\u001b[0m\u001b[0m\n",
      "\u001b[1;31mNameError\u001b[0m: name 'handsome' is not defined"
     ]
    }
   ],
   "source": [
    "age = input(\"年轻嘛 [y/n]\")\n",
    "if age ==\"y\":\n",
    "    handsom = input(\"帅吗[y/n]\")\n",
    "    if handsome ==\"y\":\n",
    "        wife = input(\"有没有女朋友哇[y/n]\")\n",
    "        if wife == \"y\":\n",
    "            print(\"回家的游戏\")\n",
    "        pass\n",
    "    else:\n",
    "        pprint(\"考虑考虑吧\")\n",
    "else:\n",
    "    print(\"再见！\")"
   ]
  },
  {
   "cell_type": "markdown",
   "metadata": {},
   "source": [
    "## EP：\n",
    "- 用户输入一个数字，判断其实奇数还是偶数\n",
    "- 进阶：可以查看下4.5实例研究猜生日"
   ]
  },
  {
   "cell_type": "markdown",
   "metadata": {},
   "source": [
    "## 双向if-else 语句\n",
    "- 如果条件为真，那么走if内部语句，否则走else内部语句"
   ]
  },
  {
   "cell_type": "markdown",
   "metadata": {},
   "source": [
    "## EP：\n",
    "- 产生两个随机整数number1和number2，然后显示给用户，使用户输入数字，并判定其是否正确,如果正确打印“you‘re correct”，否则打印正确错误"
   ]
  },
  {
   "cell_type": "markdown",
   "metadata": {},
   "source": [
    "## 嵌套if 和多向if-elif-else\n",
    "![](../Photo/35.png)"
   ]
  },
  {
   "cell_type": "markdown",
   "metadata": {},
   "source": [
    "## EP：\n",
    "- 提示用户输入一个年份，然后显示表示这一年的动物\n",
    "![](../Photo/36.png)\n",
    "- 计算身体质量指数的程序\n",
    "- BMI = 以千克为单位的体重除以以米为单位的身高的平方\n",
    "![](../Photo/37.png)"
   ]
  },
  {
   "cell_type": "code",
   "execution_count": 7,
   "metadata": {},
   "outputs": [
    {
     "name": "stdout",
     "output_type": "stream",
     "text": [
      "输入年份呢1998\n",
      "虎\n"
     ]
    }
   ],
   "source": [
    "year = eval(input(\"输入年份呢\"))\n",
    "if year % 12 == 0:\n",
    "    res = \"猴\"\n",
    "elif year % 12 == 1:\n",
    "    res = \"狗\"\n",
    "elif year % 12 == 2:\n",
    "    res = \"狗\"\n",
    "elif year % 12 == 3:  \n",
    "    res = \"猪\"\n",
    "elif year % 12 == 4:   \n",
    "    res = \"鼠\"\n",
    "elif year % 12 == 5:\n",
    "    res = \"牛\"\n",
    "elif year % 12 == 6:\n",
    "    res = \"虎\"\n",
    "elif year % 12 == 7:\n",
    "    res = \"兔\"\n",
    "elif year % 1 == 8 :\n",
    "    res = \"龙\"\n",
    "elif year % 12 == 9:\n",
    "    res = \"蛇\"\n",
    "elif year % 12 ==10:   \n",
    "    res = \"马\"\n",
    "elif year % 12 == 11:\n",
    "    res = \"羊\"\n",
    "print(res)\n"
   ]
  },
  {
   "cell_type": "code",
   "execution_count": 13,
   "metadata": {},
   "outputs": [
    {
     "name": "stdout",
     "output_type": "stream",
     "text": [
      "告诉我你的体重！！！52\n",
      "告诉我你的身高！！！1.58\n",
      "你超重啦哦\n"
     ]
    }
   ],
   "source": [
    "zhong = eval(input(\"告诉我你的体重！！！\"))\n",
    "tall = eval(input(\"告诉我你的身高！！！\"))\n",
    "zhong = float(zhong)\n",
    "tall = float(tall)\n",
    "BMI = zhong / tall ** 2\n",
    "if BMI <=18.5:\n",
    "    print(\"你太轻啦吧\")\n",
    "elif 18.5 >= BMI <= 25.0:\n",
    "    print(\"你很标准哦\")\n",
    "elif 25.0 >= BMI <= 30.0:\n",
    "    print(\"你超重啦哦\")\n",
    "elif  BMI>= 30.0:\n",
    "    print(\"你痴肥啦啦\")"
   ]
  },
  {
   "cell_type": "markdown",
   "metadata": {},
   "source": [
    "## 逻辑运算符\n",
    "![](../Photo/38.png)"
   ]
  },
  {
   "cell_type": "markdown",
   "metadata": {},
   "source": [
    "![](../Photo/39.png)\n",
    "![](../Photo/40.png)"
   ]
  },
  {
   "cell_type": "markdown",
   "metadata": {},
   "source": [
    "## EP：\n",
    "- 判定闰年：一个年份如果能被4整除但不能被100整除，或者能被400整除，那么这个年份就是闰年\n",
    "- 提示用户输入一个年份，并返回是否是闰年\n",
    "- 提示用户输入一个数字，判断其是否为水仙花数"
   ]
  },
  {
   "cell_type": "code",
   "execution_count": 21,
   "metadata": {},
   "outputs": [
    {
     "name": "stdout",
     "output_type": "stream",
     "text": [
      "输入年份2302\n",
      "否\n"
     ]
    }
   ],
   "source": [
    "year = eval(input(\"输入年份\"))\n",
    "if (year%4==0 and year%100!=0)or(year%400==0):\n",
    "    print(\"是\")\n",
    "else:\n",
    "    print(\"否\")"
   ]
  },
  {
   "cell_type": "code",
   "execution_count": 16,
   "metadata": {},
   "outputs": [
    {
     "name": "stdout",
     "output_type": "stream",
     "text": [
      "输入一个数字654\n"
     ]
    }
   ],
   "source": [
    "n = eval(input(\"输入一个数字\"))\n",
    "if n == 3:\n",
    "    for i in range(100,1000):\n",
    "        a = int(i/100);b = int(i/10)%10;c = int(i%10);\n",
    "        if a*a*a+b*b*b+c*c*c==i:\n",
    "            print(i)\n"
   ]
  },
  {
   "cell_type": "code",
   "execution_count": 18,
   "metadata": {},
   "outputs": [
    {
     "name": "stdout",
     "output_type": "stream",
     "text": [
      ">>954\n",
      "不是花\n"
     ]
    }
   ],
   "source": [
    "num = eval(input(\">>\"))\n",
    "bai = num // 100\n",
    "shi = num //10 %10\n",
    "ge = num %10\n",
    "if bai*3+shi*3+ge*3 == num:\n",
    "    print(\"水仙花啊\")\n",
    "else:\n",
    "    print(\"不是花\")"
   ]
  },
  {
   "cell_type": "markdown",
   "metadata": {},
   "source": [
    "## 实例研究：彩票\n",
    "![](../Photo/41.png)"
   ]
  },
  {
   "cell_type": "code",
   "execution_count": null,
   "metadata": {},
   "outputs": [],
   "source": [
    "import random\n"
   ]
  },
  {
   "cell_type": "code",
   "execution_count": 29,
   "metadata": {},
   "outputs": [
    {
     "ename": "SyntaxError",
     "evalue": "invalid syntax (<ipython-input-29-df231ce9754e>, line 16)",
     "output_type": "error",
     "traceback": [
      "\u001b[1;36m  File \u001b[1;32m\"<ipython-input-29-df231ce9754e>\"\u001b[1;36m, line \u001b[1;32m16\u001b[0m\n\u001b[1;33m    elif (num_ge == N_ge or num_ge == N_shi) or (num_shi == N_ge num_shi == N_ge or num_shi == N_shi):\u001b[0m\n\u001b[1;37m                                                                       ^\u001b[0m\n\u001b[1;31mSyntaxError\u001b[0m\u001b[1;31m:\u001b[0m invalid syntax\n"
     ]
    }
   ],
   "source": [
    "num = random.randint(10,99)\n",
    "print(num)\n",
    "N = input(\">>\")\n",
    "num_shi = num //10\n",
    "num_ge = num%10\n",
    "if N[0] == \"0\":\n",
    "    N_shi = 0\n",
    "else:\n",
    "    N_shi = int(N)//10\n",
    "    N_ge = int(N)%10\n",
    "if num == int(N):\n",
    "    print(\"1000\")\n",
    "#elif (num_shi == N_shi or num_shi == N_ge) and (num_ge == N_shi or num_ge == N_ge)\n",
    "elif num_shi + num_ge == N_shi + N_ge:\n",
    "    print(\"3000\")\n",
    "elif (num_ge == N_ge or num_ge == N_shi) or (num_shi == N_ge num_shi == N_ge or num_shi == N_shi):\n",
    "    print(\"1000\")\n",
    "\n"
   ]
  },
  {
   "cell_type": "markdown",
   "metadata": {},
   "source": [
    "# Homework\n",
    "- 1\n",
    "![](../Photo/42.png)"
   ]
  },
  {
   "cell_type": "code",
   "execution_count": 9,
   "metadata": {},
   "outputs": [
    {
     "name": "stdout",
     "output_type": "stream",
     "text": [
      "请输入值1：2\n",
      "请输入值2：1\n",
      "请输入值3：-1\n",
      "r1 =  2.0\n",
      "r2 =  -4.0\n"
     ]
    }
   ],
   "source": [
    "a = eval(input(\"请输入值1：\"))\n",
    "b = eval(input(\"请输入值2：\"))\n",
    "c = eval(input(\"请输入值3：\"))\n",
    "num1 = (-1*b+pow(b*b-4*a*c,1/2))/2*a\n",
    "num2 = (-1*b-pow(b*b-4*a*c,1/2))/2*a\n",
    "if b**2 - 4*a*c > 0:\n",
    "    print(\"r1 = \",num1)\n",
    "    print(\"r2 = \",num2)\n",
    "else:\n",
    "    print(\"The equation has no real roots\")"
   ]
  },
  {
   "cell_type": "markdown",
   "metadata": {},
   "source": [
    "- 2\n",
    "![](../Photo/43.png)"
   ]
  },
  {
   "cell_type": "code",
   "execution_count": 16,
   "metadata": {},
   "outputs": [
    {
     "name": "stdout",
     "output_type": "stream",
     "text": [
      "请输入这两个数的和：9\n",
      "结果是假哒\n"
     ]
    }
   ],
   "source": [
    "import random\n",
    "num_1 = random.randint(0,100)\n",
    "num_2 = random.randint(0,100)\n",
    "\n",
    "sum_ = eval(input(\"请输入这两个数的和：\"))\n",
    "if sum_ == num_1 + num_2:\n",
    "    print(\"结果是真哒\")\n",
    "else:\n",
    "    print(\"结果是假哒\")"
   ]
  },
  {
   "cell_type": "markdown",
   "metadata": {},
   "source": [
    "- 3\n",
    "![](../Photo/44.png)"
   ]
  },
  {
   "cell_type": "code",
   "execution_count": 18,
   "metadata": {},
   "outputs": [
    {
     "name": "stdout",
     "output_type": "stream",
     "text": [
      "today is:0\n",
      "days:8\n",
      "1\n"
     ]
    }
   ],
   "source": [
    "today = eval(input(\"today is:\"))\n",
    "fut_day = eval(input(\"days:\"))\n",
    "\n",
    "res = (today + fut_day) % 7\n",
    "print(res)"
   ]
  },
  {
   "cell_type": "markdown",
   "metadata": {},
   "source": [
    "- 4\n",
    "![](../Photo/45.png)"
   ]
  },
  {
   "cell_type": "code",
   "execution_count": 20,
   "metadata": {},
   "outputs": [
    {
     "name": "stdout",
     "output_type": "stream",
     "text": [
      "输入一个整数吧：8\n",
      "输入第二个整数：5\n",
      "输入第三个整数：1\n",
      "min(num_1,num_2,num_3),max(num_1,num_2,num_3)\n"
     ]
    }
   ],
   "source": [
    "num_1 = eval(input(\"输入一个整数吧：\"))\n",
    "num_2 = eval(input(\"输入第二个整数：\"))                  \n",
    "num_3 = eval(input(\"输入第三个整数：\"))                 \n",
    "a = max(num_1,num_2,num_3)\n",
    "b = min(num_1,num_2,num_3)\n",
    "c = "
   ]
  },
  {
   "cell_type": "code",
   "execution_count": 24,
   "metadata": {},
   "outputs": [
    {
     "name": "stdout",
     "output_type": "stream",
     "text": [
      "输入一个整数吧： 957\n",
      "输入第二个整数： 21\n",
      "输入第三个整数： 5\n",
      "5 21 957\n"
     ]
    }
   ],
   "source": [
    "a = int(input(\"输入一个整数吧： \"))\n",
    "b = int(input(\"输入第二个整数： \"))                  \n",
    "c = int(input(\"输入第三个整数： \")) \n",
    "if a>b:\n",
    "    if b>c:             \n",
    "        print(c,b,a)\n",
    "    else:\n",
    "        if a>c:           \n",
    "            print(b,c,a)\n",
    "        else:           \n",
    "            print(b,a,c)\n",
    "else:\n",
    "    if a>c:\n",
    "        print(c,a,b)\n",
    "    else:\n",
    "        if b>c:               \n",
    "            print(a,c,b)\n",
    "        else:\n",
    "            print(a,b,c)      "
   ]
  },
  {
   "cell_type": "markdown",
   "metadata": {},
   "source": [
    "- 5\n",
    "![](../Photo/46.png)"
   ]
  },
  {
   "cell_type": "code",
   "execution_count": 31,
   "metadata": {},
   "outputs": [
    {
     "name": "stdout",
     "output_type": "stream",
     "text": [
      "输入包装1的重量和价格50,24.59\n",
      "输入包装2的重量和价格25,11.99\n",
      "包装2是最好的价格\n"
     ]
    }
   ],
   "source": [
    "weight_1,price_1 = eval(input(\"输入包装1的重量和价格\"))\n",
    "weight_2,price_2 = eval(input(\"输入包装2的重量和价格\"))\n",
    "bijiao1 = price_1/weight_1\n",
    "bijiao2 = price_2/weight_2\n",
    "if bijiao1>bijiao2:\n",
    "    print(\"包装2是最好的价格\")\n",
    "else:\n",
    "    print(\"包装1是最好的价格\")"
   ]
  },
  {
   "cell_type": "markdown",
   "metadata": {},
   "source": [
    "- 6\n",
    "![](../Photo/47.png)"
   ]
  },
  {
   "cell_type": "code",
   "execution_count": 39,
   "metadata": {},
   "outputs": [
    {
     "name": "stdout",
     "output_type": "stream",
     "text": [
      "输入年月：3,2005\n",
      "2005 年 3 月 有 31 天\n"
     ]
    }
   ],
   "source": [
    "month,year = eval(input(\"输入年月：\"))\n",
    "run = year % 4\n",
    "if month ==1 or month ==3 or month == 5 or month == 7 or month == 8 or month ==10 or month ==12:\n",
    "    month1 = 31\n",
    "elif month ==4 or month ==6 or month == 8 or month == 9 or month == 11:\n",
    "    month1 = 30\n",
    "elif run == 0 and month == 2:\n",
    "    month1 = 29\n",
    "else:\n",
    "    month = 28\n",
    "print(year,\"年\",month,\"月\",\"有\",month1,\"天\")"
   ]
  },
  {
   "cell_type": "markdown",
   "metadata": {},
   "source": [
    "- 7\n",
    "![](../Photo/48.png)"
   ]
  },
  {
   "cell_type": "code",
   "execution_count": 12,
   "metadata": {},
   "outputs": [
    {
     "name": "stdout",
     "output_type": "stream",
     "text": [
      "欢迎来到猜硬币游戏\n",
      "请猜测 （0）是正面 （1）是反面\n",
      "输入一个猜测值1\n",
      "哇塞你猜对啦\n"
     ]
    }
   ],
   "source": [
    "import random\n",
    "result_1 = random.randint(0,1)\n",
    "result_2 = random.randint(0,1)\n",
    "print(\"欢迎来到猜硬币游戏\\n请猜测 （0）是正面 （1）是反面\")\n",
    "value_ = eval(input(\"输入一个猜测值\")) \n",
    "if value_ == result_2 or value_ == result_2:\n",
    "    print(\"哇塞你猜对啦\")\n",
    "else:\n",
    "    print(\"好遗憾哦你猜错啦\")"
   ]
  },
  {
   "cell_type": "code",
   "execution_count": 14,
   "metadata": {},
   "outputs": [
    {
     "name": "stdout",
     "output_type": "stream",
     "text": [
      "欢迎来到猜硬币游戏:\n",
      "请猜值（0）是正面（1）是反面\n",
      "1\n",
      "猜对啦厉害，玩家猜是1,电脑猜是1\n"
     ]
    }
   ],
   "source": [
    "import random\n",
    "computer = random.randint(0,1)\n",
    "player = random.randint(0,1)\n",
    "print(\"欢迎来到猜硬币游戏:\\n请猜值（0）是正面（1）是反面\")\n",
    "print(computer)\n",
    "if computer == 1 and player == 0 or computer == 0 and player == 1:\n",
    "    print(\"猜错啦，玩家猜是%s,电脑猜是%s\"%(player,computer))\n",
    "else:\n",
    "    print(\"猜对啦厉害，玩家猜是%s,电脑猜是%s\"%(player,computer))"
   ]
  },
  {
   "cell_type": "markdown",
   "metadata": {},
   "source": [
    "- 8\n",
    "![](../Photo/49.png)"
   ]
  },
  {
   "cell_type": "code",
   "execution_count": 52,
   "metadata": {},
   "outputs": [
    {
     "name": "stdout",
     "output_type": "stream",
     "text": [
      "欢迎来到游戏:\n",
      "请输入要出的拳（0）是剪刀（1）是石头（2）是布\n",
      "玩家请出拳0\n",
      "1\n",
      "玩家输，玩家输出的是0,电脑输出的是1\n"
     ]
    }
   ],
   "source": [
    "import random\n",
    "computer = random.randint(0,2)\n",
    "print(\"欢迎来到游戏:\\n请输入要出的拳（0）是剪刀（1）是石头（2）是布\")\n",
    "player = int(input(\"玩家请出拳\"))\n",
    "print(computer)\n",
    "if computer == player == random.randint(0,2):\n",
    "    print(\"平局，玩家输出的是%s,电脑输出的是%s\"%(player,computer))\n",
    "elif computer == 1 and player == 2 or computer == 0 and player == 1 or computer == 2 and player == 0:\n",
    "    print(\"玩家胜，玩家输出的是%s,电脑输出的是%s\"%(player,computer))\n",
    "else:\n",
    "    print(\"玩家输，玩家输出的是%s,电脑输出的是%s\"%(player,computer))"
   ]
  },
  {
   "cell_type": "markdown",
   "metadata": {},
   "source": [
    "- 9\n",
    "![](../Photo/50.png)"
   ]
  },
  {
   "cell_type": "code",
   "execution_count": 2,
   "metadata": {},
   "outputs": [],
   "source": [
    "import random"
   ]
  },
  {
   "cell_type": "code",
   "execution_count": 18,
   "metadata": {},
   "outputs": [
    {
     "name": "stdout",
     "output_type": "stream",
     "text": [
      "the year is:2019\n",
      "the month is:4\n",
      "the day is:30\n",
      "星期五\n"
     ]
    }
   ],
   "source": [
    "\n",
    "weekday = random.randint(0,6)\n",
    "year = eval(input(\"the year is:\"))\n",
    "month = eval(input(\"the month is:\"))\n",
    "day = eval(input(\"the day is:\"))\n",
    "weekday = (day + 26*(month+1)/10+year%100+(year%100)/4+(year/100)/4+5*(year/100))%7\n",
    "if weekday ==0:\n",
    "    print(\"星期六\")\n",
    "elif weekday ==1:\n",
    "    print(\"星期天\")\n",
    "elif weekday ==2:\n",
    "    print(\"星期一\")\n",
    "elif weekday ==3:\n",
    "    print(\"星期二\")\n",
    "elif weekday ==4:\n",
    "    print(\"星期三\")\n",
    "elif weekday ==5:\n",
    "    print(\"星期四\")\n",
    "else:\n",
    "    weekday ==6\n",
    "    print(\"星期五\")"
   ]
  },
  {
   "cell_type": "markdown",
   "metadata": {},
   "source": [
    "- 10\n",
    "![](../Photo/51.png)"
   ]
  },
  {
   "cell_type": "code",
   "execution_count": 19,
   "metadata": {},
   "outputs": [
    {
     "name": "stdout",
     "output_type": "stream",
     "text": [
      "('黑桃', '红桃', '方块', '梅花') ('Ace', '2', '3', '4', '5', '6', '7', '8', '9', '10', 'Jack', 'Queen', 'King')\n"
     ]
    }
   ],
   "source": [
    "color = random.randint(0,3)\n",
    "huase = (\"黑桃\",\"红桃\",\"方块\",\"梅花\")\n",
    "card = (\"Ace\",\"2\",\"3\",\"4\",\"5\",\"6\",\"7\",\"8\",\"9\",\"10\",\"Jack\",\"Queen\",\"King\")\n",
    "print(huase,card)"
   ]
  },
  {
   "cell_type": "markdown",
   "metadata": {},
   "source": [
    "- 11\n",
    "![](../Photo/52.png)"
   ]
  },
  {
   "cell_type": "code",
   "execution_count": 55,
   "metadata": {},
   "outputs": [
    {
     "name": "stdout",
     "output_type": "stream",
     "text": [
      "请输入一个三位整数：121\n",
      "is a palindrome\n"
     ]
    }
   ],
   "source": [
    "num = eval(input(\"请输入一个三位整数：\"))\n",
    "bai = num // 100\n",
    "shi = num //10 % 10\n",
    "ge = num % 10\n",
    "if bai == ge:\n",
    "    print(\"is a palindrome\")\n",
    "else:\n",
    "    print(\"is not a palindrome\")"
   ]
  },
  {
   "cell_type": "markdown",
   "metadata": {},
   "source": [
    "- 12\n",
    "![](../Photo/53.png)"
   ]
  },
  {
   "cell_type": "code",
   "execution_count": 41,
   "metadata": {},
   "outputs": [
    {
     "name": "stdout",
     "output_type": "stream",
     "text": [
      "输入三条边1,1,1\n",
      "周长是 3\n"
     ]
    }
   ],
   "source": [
    "length1,length2,length3 = eval(input(\"输入三条边\"))\n",
    "zhouchang = length1 + length2 + length3\n",
    "if length1+length2>length3 and length1+length3>length2 and length2+length3>length3:\n",
    "    print(\"周长是\",zhouchang)\n",
    "else:\n",
    "    print(\"这是非法的呀\")\n",
    "    "
   ]
  }
 ],
 "metadata": {
  "kernelspec": {
   "display_name": "Python 3",
   "language": "python",
   "name": "python3"
  },
  "language_info": {
   "codemirror_mode": {
    "name": "ipython",
    "version": 3
   },
   "file_extension": ".py",
   "mimetype": "text/x-python",
   "name": "python",
   "nbconvert_exporter": "python",
   "pygments_lexer": "ipython3",
   "version": "3.7.3"
  }
 },
 "nbformat": 4,
 "nbformat_minor": 2
}
